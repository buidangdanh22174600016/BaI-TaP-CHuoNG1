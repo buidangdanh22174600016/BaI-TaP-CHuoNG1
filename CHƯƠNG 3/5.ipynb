{
 "cells": [
  {
   "cell_type": "code",
   "execution_count": 1,
   "metadata": {},
   "outputs": [
    {
     "ename": "",
     "evalue": "",
     "output_type": "error",
     "traceback": [
      "\u001b[1;31mThe Kernel crashed while executing code in the the current cell or a previous cell. Please review the code in the cell(s) to identify a possible cause of the failure. Click <a href='https://aka.ms/vscodeJupyterKernelCrash'>here</a> for more info. View Jupyter <a href='command:jupyter.viewOutput'>log</a> for further details."
     ]
    }
   ],
   "source": [
    "import numpy as np\n",
    "#1\n",
    "with open(r'chuong_3\\heights_1.txt','r') as f:\n",
    "    read = len(f.read())\n",
    "    f.seek(0)\n",
    "    list_height = []\n",
    "    for i in range(read):\n",
    "        a = f.read(2)\n",
    "        if a == '':\n",
    "            break\n",
    "        list_height.append(a)\n",
    "        if a == '':\n",
    "            break\n",
    "    list_height =[int(i) for i in list_height]\n",
    "arr_height = np.array(list_height)\n",
    "#2\n",
    "with open(r'G:\\bai_tap\\chuong_3\\weights_1.txt','r') as f:\n",
    "    read = len(f.read())\n",
    "    f.seek(0)\n",
    "    list_weight = []\n",
    "    for i in range(read):\n",
    "        a = f.read(3)\n",
    "        if a == '':\n",
    "            break\n",
    "        list_weight.append(a)\n",
    "        if a == '':\n",
    "            break\n",
    "    list_weight =[int(i) for i in list_weight]\n",
    "arr_weight =np.array(list_weight)\n",
    "#3\n",
    "arr_height_m = np.array([i*0.0254 for i in arr_height])\n",
    "#4\n",
    "arr_weight_kg = np.array([i*0.453592 for i in arr_weight])\n",
    "#5\n",
    "arr_BMI = np.array([])\n",
    "for i in range(0,len(arr_height)-1):\n",
    "    arr_BMI = np.append(arr_BMI,arr_weight_kg[i]/(arr_height_m[i]*arr_height_m[i]))\n",
    "#6\n",
    "print(arr_weight_kg[50])\n",
    "#7\n",
    "arr_height_m_100 = arr_height_m[100:111:1]\n",
    "print(arr_height_m)\n",
    "\n",
    "#8\n",
    "name =[]\n",
    "with open(r\"G:\\bai_tap\\chuong_3\\name.text\",'r') as n:\n",
    "    lenght = len(n.read())\n",
    "    n.seek(0)\n",
    "    for i in range(0,lenght+1):\n",
    "        length2 = len(n.readline())\n",
    "\n",
    "        read = n.read(length2-1)\n",
    "        name.append(read)\n",
    "print(name)\n",
    "BMI = [i for i in arr_BMI if i <21]\n",
    "for i in BMI:\n",
    "    print('các cầu thủ có BMI<21: ',i)"
   ]
  }
 ],
 "metadata": {
  "kernelspec": {
   "display_name": "Python 3",
   "language": "python",
   "name": "python3"
  },
  "language_info": {
   "codemirror_mode": {
    "name": "ipython",
    "version": 3
   },
   "file_extension": ".py",
   "mimetype": "text/x-python",
   "name": "python",
   "nbconvert_exporter": "python",
   "pygments_lexer": "ipython3",
   "version": "3.6.8"
  }
 },
 "nbformat": 4,
 "nbformat_minor": 2
}
