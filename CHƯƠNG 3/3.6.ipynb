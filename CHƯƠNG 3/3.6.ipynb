{
 "cells": [
  {
   "cell_type": "code",
   "execution_count": 1,
   "metadata": {},
   "outputs": [
    {
     "ename": "",
     "evalue": "",
     "output_type": "error",
     "traceback": [
      "\u001b[1;31mThe Kernel crashed while executing code in the the current cell or a previous cell. Please review the code in the cell(s) to identify a possible cause of the failure. Click <a href='https://aka.ms/vscodeJupyterKernelCrash'>here</a> for more info. View Jupyter <a href='command:jupyter.viewOutput'>log</a> for further details."
     ]
    }
   ],
   "source": [
    "import numpy as np\n",
    "#1\n",
    "arr = np.full((3,3),True,dtype= bool)\n",
    "arr_1D = np.array([0, 1, 2, 3, 4, 5, 6, 7, 8])\n",
    "arr_2D = arr_1D.reshape((3,3))\n",
    "print('arr kích thước 3x3',arr_2D)\n",
    "#2\n",
    "column1 = list(arr_2D[:,0])\n",
    "arr_2D[:,0] = arr_2D[:,2]\n",
    "arr_2D[:,2] = column1\n",
    "print('chuyển cột 1 sang cột 3 và ngược lại:',arr_2D)\n",
    "#3\n",
    "row1 = list(arr_2D[0,:])\n",
    "arr_2D[0,:] = arr_2D[1,:]\n",
    "arr_2D[1,:] = row1\n",
    "print('chuyển dòng 1 sang dòng 2 và ngược lại:',arr_2D)\n",
    "#4\n",
    "arr_2D = arr_2D[::-1,::1]\n",
    "print('đảo ngược các dòng của arr_2D:',arr_2D)\n",
    "#5\n",
    "arr_2D = arr_2D[::1,::-1]\n",
    "print('đảo ngược các cột của arr_2D',arr_2D)\n",
    "#6\n",
    "arr_2D_null = np.array([[1, 2, 3], [np.NaN, 5, 6], [7, np.NaN, 9], [4, 5, 6]])\n",
    "if np.isnan(arr_2D_null).any() :\n",
    "    print('có giá trị rỗng')\n",
    "else:\n",
    "    print('không có giá trị rỗng')\n",
    "#7\n",
    "arr_2D_no_null = np.nan_to_num(arr_2D_null)\n",
    "print('sau khi thay thế',arr_2D_no_null)"
   ]
  }
 ],
 "metadata": {
  "kernelspec": {
   "display_name": "Python 3",
   "language": "python",
   "name": "python3"
  },
  "language_info": {
   "codemirror_mode": {
    "name": "ipython",
    "version": 3
   },
   "file_extension": ".py",
   "mimetype": "text/x-python",
   "name": "python",
   "nbconvert_exporter": "python",
   "pygments_lexer": "ipython3",
   "version": "3.6.8"
  }
 },
 "nbformat": 4,
 "nbformat_minor": 2
}
